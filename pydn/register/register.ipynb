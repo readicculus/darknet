{
 "cells": [
  {
   "cell_type": "code",
   "execution_count": 16,
   "metadata": {},
   "outputs": [
    {
     "name": "stdout",
     "output_type": "stream",
     "text": [
      "The autoreload extension is already loaded. To reload it, use:\n",
      "  %reload_ext autoreload\n"
     ]
    }
   ],
   "source": [
    "%load_ext autoreload\n",
    "%autoreload 2\n",
    "import os\n",
    "import time\n",
    "import cv2\n",
    "import sys\n",
    "import SimpleITK as sitk\n",
    "import itk\n",
    "sys.path.append(\"/home/yuval/Documents/XNOR/sealnet/models/darknet\")\n",
    "from pydn.inference.models import Detection\n",
    "from pydn.inference.util import load, get_image_info_api, show_images, filter_confidence, save_dets, normalize_thermal\n",
    "import pydn.register.models\n",
    "from pydn.register.models import cent_h5_f, left_h5_f, RegistrationHelper, get_file_pairs\n",
    "import importlib\n",
    "import matplotlib.pyplot as plt\n",
    "import numpy as np\n",
    "# np.set_printoptions(suppress=True)\n",
    "from IPython.display import display"
   ]
  },
  {
   "cell_type": "code",
   "execution_count": 46,
   "metadata": {},
   "outputs": [],
   "source": [
    "# test_kotz_2019_fl04_C_20190510_014247.728286_rgb.jpg\n",
    "# test_kotz_2019_fl04_C_20190510_014248.640093_ir.tif\n",
    "# test_kotz_2019_fl04_C_20190510_014248.640093_meta.json\n",
    "# test_kotz_2019_fl04_C_20190510_014248.640093_rgb.jpg\n",
    "# test_kotz_2019_fl04_C_20190510_014249.552753_ir.tif\n",
    "# test_kotz_2019_fl04_C_20190510_014249.552753_meta.json\n",
    "# test_kotz_2019_fl04_C_20190510_014249.552753_rgb.jpg\n",
    "# test_kotz_2019_fl04_C_20190510_014250.465761_ir.tif\n",
    "# test_kotz_2019_fl04_C_20190510_014250.465761_meta.json\n",
    "# /data2/2019/fl04/test_kotz_2019_fl04_C_20190510_014250.465761_rgb.jpg\n",
    "# \n",
    "# /data2/2019/fl04/test_kotz_2019_fl04_C_20190510_014251.379383_meta.json\n",
    "# \n",
    "\n",
    "image_pair = ('/data2/2019/fl04/CENT/test_kotz_2019_fl04_C_20190510_014251.379383_rgb.jpg', '/data2/2019/fl04/CENT/test_kotz_2019_fl04_C_20190510_014251.379383_ir.tif') # (rgb, ir)\n"
   ]
  },
  {
   "cell_type": "code",
   "execution_count": null,
   "metadata": {},
   "outputs": [],
   "source": []
  },
  {
   "cell_type": "code",
   "execution_count": 94,
   "metadata": {},
   "outputs": [],
   "source": [
    "def resample(image, dest, transform):\n",
    "    pointsX = []\n",
    "    pointsY = []\n",
    "    for index, value in np.ndenumerate(image):\n",
    "        px,py = transform.TransformPoint((value, dest[index]))\n",
    "        pointsX.append(px) \n",
    "        pointsY.append(py)\n",
    "\n",
    "def show_projections(pair, affine):\n",
    "    rgb_im, ir_im = pair\n",
    "    print(rgb_im, ir_im)\n",
    "    \n",
    "    rgb = cv2.imread(rgb_im)\n",
    "    height, width, channels = rgb.shape\n",
    "    new = np.zeros((height,width))\n",
    "#     ir_im = pairs[rgb_im]\n",
    "    ir=cv2.imread(ir_im, -1)\n",
    "\n",
    "#     image = itk.imread(ir_fn)\n",
    "#     nda = sitk.GetArrayViewFromImage(image)\n",
    "#     ir = np.array(ir)\n",
    "#     ir = normalize_thermal(ir)\n",
    "#     ir_3c = cv2.cvtColor(ir,cv2.COLOR_GRAY2RGB)\n",
    "    vector = False\n",
    "    ir = sitk.GetImageFromArray(ir, isVector=vector)\n",
    "    rgb = sitk.GetImageFromArray(rgb, isVector=vector)\n",
    "#     moving_resampled = sitk.Resample(ir, new,  affine, sitk.sitkLinear, 0.0, ir.GetPixelID())\n",
    "    moving_resampled = sitk.Resample(rgb, affine.GetInverse())\n",
    "#     resampled = resample(ir, new, affine)\n",
    "#     ir_3c = cv2.warpPerspective(ir_3c, rh.H, (width,height))\n",
    "    print(moving_resampled)\n",
    "    # ir_3c = cv2.resize(ir_3c,None,fx=rgb.shape[1]/ir.shape[1],fy=rgb.shape[0]/ir.shape[0])\n",
    "\n",
    "    plt.imshow(sitk.GetArrayViewFromImage(moving_resampled))\n",
    "    plt.axis('off')\n",
    "    plt.show()\n"
   ]
  },
  {
   "cell_type": "code",
   "execution_count": 95,
   "metadata": {},
   "outputs": [
    {
     "name": "stdout",
     "output_type": "stream",
     "text": [
      "[[ 1.06156124e+01 -4.68370028e-02 -2.58738196e+02]\n",
      " [ 6.50620827e-02  1.05816533e+01 -2.92569479e+02]\n",
      " [ 0.00000000e+00  0.00000000e+00  1.00000000e+00]]\n",
      "itk::simple::AffineTransform\n",
      " AffineTransform (0x55836d243ee0)\n",
      "   RTTI typeinfo:   itk::AffineTransform<double, 3u>\n",
      "   Reference Count: 1\n",
      "   Modified Time: 1225\n",
      "   Debug: Off\n",
      "   Object Name: \n",
      "   Observers: \n",
      "     none\n",
      "   Matrix: \n",
      "     10.6156 -0.046837 -258.738 \n",
      "     0.0650621 10.5817 -292.569 \n",
      "     0 0 1 \n",
      "   Offset: [0, 0, 0]\n",
      "   Center: [0, 0, 0]\n",
      "   Translation: [0, 0, 0]\n",
      "   Inverse: \n",
      "     0.0941983 0.000416945 24.4947 \n",
      "     -0.000579185 0.0945006 27.4981 \n",
      "     8.67362e-19 2.1684e-19 1 \n",
      "   Singular: 0\n",
      "\n",
      "/data2/2019/fl04/CENT/test_kotz_2019_fl04_C_20190510_014251.379383_rgb.jpg /data2/2019/fl04/CENT/test_kotz_2019_fl04_C_20190510_014251.379383_ir.tif\n",
      "Image (0x55836d1d7d30)\n",
      "  RTTI typeinfo:   itk::Image<unsigned char, 3u>\n",
      "  Reference Count: 1\n",
      "  Modified Time: 1282\n",
      "  Debug: Off\n",
      "  Object Name: \n",
      "  Observers: \n",
      "    none\n",
      "  Source: (none)\n",
      "  Source output name: (none)\n",
      "  Release Data: Off\n",
      "  Data Released: False\n",
      "  Global Release Data: Off\n",
      "  PipelineMTime: 1274\n",
      "  UpdateMTime: 1281\n",
      "  RealTimeStamp: 0 seconds \n",
      "  LargestPossibleRegion: \n",
      "    Dimension: 3\n",
      "    Index: [0, 0, 0]\n",
      "    Size: [3, 6576, 4384]\n",
      "  BufferedRegion: \n",
      "    Dimension: 3\n",
      "    Index: [0, 0, 0]\n",
      "    Size: [3, 6576, 4384]\n",
      "  RequestedRegion: \n",
      "    Dimension: 3\n",
      "    Index: [0, 0, 0]\n",
      "    Size: [3, 6576, 4384]\n",
      "  Spacing: [1, 1, 1]\n",
      "  Origin: [0, 0, 0]\n",
      "  Direction: \n",
      "1 0 0\n",
      "0 1 0\n",
      "0 0 1\n",
      "\n",
      "  IndexToPointMatrix: \n",
      "1 0 0\n",
      "0 1 0\n",
      "0 0 1\n",
      "\n",
      "  PointToIndexMatrix: \n",
      "1 0 0\n",
      "0 1 0\n",
      "0 0 1\n",
      "\n",
      "  Inverse Direction: \n",
      "1 0 0\n",
      "0 1 0\n",
      "0 0 1\n",
      "\n",
      "  PixelContainer: \n",
      "    ImportImageContainer (0x55836d491fe0)\n",
      "      RTTI typeinfo:   itk::ImportImageContainer<unsigned long, unsigned char>\n",
      "      Reference Count: 1\n",
      "      Modified Time: 1279\n",
      "      Debug: Off\n",
      "      Object Name: \n",
      "      Observers: \n",
      "        none\n",
      "      Pointer: 0x7f7b2bd89010\n",
      "      Container manages memory: true\n",
      "      Size: 86487552\n",
      "      Capacity: 86487552\n",
      "\n"
     ]
    },
    {
     "data": {
      "image/png": "[encoded data removed]",
      "text/plain": [
       "<Figure size 432x288 with 1 Axes>"
      ]
     },
     "metadata": {
      "needs_background": "light"
     },
     "output_type": "display_data"
    }
   ],
   "source": [
    "rh = RegistrationHelper(cent_h5_f)\n",
    "H = rh.get_homography( warp_mode = cv2.MOTION_HOMOGRAPHY)\n",
    "print(H)\n",
    "\n",
    "affine = sitk.AffineTransform(3)\n",
    "affine.SetMatrix(H.flatten())\n",
    "print(affine)\n",
    "\n",
    "show_projections(image_pair, affine)\n"
   ]
  },
  {
   "cell_type": "code",
   "execution_count": null,
   "metadata": {},
   "outputs": [],
   "source": [
    "\n",
    "\n"
   ]
  },
  {
   "cell_type": "code",
   "execution_count": 20,
   "metadata": {},
   "outputs": [],
   "source": [
    "\n",
    "\n"
   ]
  }
 ],
 "metadata": {
  "kernelspec": {
   "display_name": "Python 3",
   "language": "python",
   "name": "python3"
  },
  "language_info": {
   "codemirror_mode": {
    "name": "ipython",
    "version": 3
   },
   "file_extension": ".py",
   "mimetype": "text/x-python",
   "name": "python",
   "nbconvert_exporter": "python",
   "pygments_lexer": "ipython3",
   "version": "3.6.8"
  }
 },
 "nbformat": 4,
 "nbformat_minor": 4
}
