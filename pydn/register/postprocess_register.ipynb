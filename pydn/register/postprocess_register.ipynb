{
 "cells": [
  {
   "cell_type": "code",
   "execution_count": 1,
   "metadata": {},
   "outputs": [],
   "source": [
    "%load_ext autoreload\n",
    "%autoreload 2\n",
    "import os\n",
    "import time\n",
    "import cv2\n",
    "import sys\n",
    "sys.path.append(\"/home/yuval/Documents/XNOR/sealnet/models/darknet\")\n",
    "from pydn.inference.models import Detection\n",
    "from pydn.inference.util import load, get_image_info_api, show_images, filter_confidence, save_dets, normalize_thermal\n",
    "import pydn.register.models\n",
    "from pydn.register.models import cent_h5_f, left_h5_f, RegistrationHelper, get_file_pairs\n",
    "import importlib\n",
    "import matplotlib.pyplot as plt\n",
    "import numpy as np\n",
    "# np.set_printoptions(suppress=True)\n",
    "from IPython.display import display\n"
   ]
  },
  {
   "cell_type": "code",
   "execution_count": 29,
   "metadata": {},
   "outputs": [],
   "source": [
    "class TransformMode:\n",
    "    IRTOEO = 1\n",
    "    EOTOIR = 2\n",
    "\n",
    "class ModalityTransform():\n",
    "    def __init__(self, H, mode):\n",
    "        self.h = H\n",
    "        self.mode = mode\n",
    "\n",
    "\n",
    "\n",
    "    def transform_ir_to_eo(self, im_ir, im_eo):\n",
    "        H = None\n",
    "        if self.mode == TransformMode.IRTOEO:\n",
    "            H = self.h\n",
    "        elif self.mode == TransformMode.EOTOIR:\n",
    "            H = np.linalg.inv(self.h)\n",
    "        else:\n",
    "            raise (\"invalid mode\")\n",
    "\n",
    "        h, w, _ = im_eo.shape\n",
    "        im_ir_3c = cv2.merge([im_ir, im_ir, im_ir])\n",
    "        im_ir_3c[im_ir_3c == 0.] = 0.01\n",
    "        im_proj = cv2.warpPerspective(im_ir_3c, H, (w, h))\n",
    "\n",
    "        print(im_ir_3c.min())\n",
    "        b_channel, g_channel, a_channel = cv2.split(im_proj)\n",
    "        b_channel, g_channel, r_channel = cv2.split(im_eo)\n",
    "        print(im_proj.min())\n",
    "\n",
    "        # missing_mask = np.zeros(a_channel.shape)\n",
    "        # missing_mask[a_channel == 0] = 1\n",
    "\n",
    "        r_channel[a_channel == 0.] = 0.\n",
    "        b_channel[a_channel == 0.] = 0.\n",
    "        g_channel[a_channel == 0.] = 0.\n",
    "        a_channel[a_channel == 0.] = 0.\n",
    "\n",
    "        # r_channel[missing_mask_1c[:,1], missing_mask_1c[:,0]] = 255\n",
    "\n",
    "        im_aligned = cv2.merge([b_channel, g_channel, r_channel, a_channel])\n",
    "        return im_aligned  # , missing_mask\n",
    "\n",
    "    def transform_eo_to_ir(self, im_eo, im_ir):\n",
    "        H = None\n",
    "        if self.mode == TransformMode.IRTOEO:\n",
    "            H = np.linalg.inv(self.h)\n",
    "        elif self.mode == TransformMode.EOTOIR:\n",
    "            H = self.h\n",
    "        else:\n",
    "            raise (\"invalid mode\")\n",
    "\n",
    "        h, w = im_ir.shape\n",
    "\n",
    "        im_proj = cv2.warpPerspective(im_eo, H, (w, h))\n",
    "\n",
    "        b_channel, g_channel, r_channel = cv2.split(im_proj)\n",
    "        im_aligned = cv2.merge((b_channel, g_channel, r_channel, im_ir))\n",
    "        return im_aligned\n"
   ]
  },
  {
   "cell_type": "code",
   "execution_count": 2,
   "metadata": {
    "collapsed": false,
    "jupyter": {
     "outputs_hidden": false
    },
    "pycharm": {
     "name": "#%%\n"
    }
   },
   "outputs": [
    {
     "name": "stdout",
     "output_type": "stream",
     "text": [
      "[[ 1.06156124e+01 -4.68370028e-02 -2.58738196e+02]\n",
      " [ 6.50620827e-02  1.05816533e+01 -2.92569479e+02]]\n",
      "[[ 1.06156124e+01 -4.68370028e-02 -2.58738196e+02]\n",
      " [ 6.50620827e-02  1.05816533e+01 -2.92569479e+02]]\n"
     ]
    },
    {
     "name": "stderr",
     "output_type": "stream",
     "text": [
      "/home/yuval/Documents/XNOR/sealnet/models/darknet/pydn/register/models.py:21: H5pyDeprecationWarning: dataset.value has been deprecated. Use dataset[()] instead.\n",
      "  affine=np.array(data.value)\n"
     ]
    }
   ],
   "source": [
    "pkl_file_out_filter = '/fast/experiments/yolov4_3c_832/base/inference/kotz/kotz_fl01_fl04_fl05_detections_consolidated_nms0.20_conf0.10.pkl'\n",
    "\n",
    "pkl_file_projected = '/fast/experiments/yolov4_3c_832/base/inference/kotz/projected/kotz_fl04_detections_consolidated_nms0.20_conf0.10_projected.pkl'\n",
    "detections_dict = load(pkl_file_out_filter)\n",
    "dirs = ['/data2/2019/fl04/CENT']\n",
    "rh = RegistrationHelper(cent_h5_f)\n",
    "rh_rev = RegistrationHelper(cent_h5_f, inverse=True)\n",
    "print(rh.H)\n",
    "print(rh_rev.H)\n",
    "pairs = get_file_pairs(dirs[0])"
   ]
  },
  {
   "cell_type": "code",
   "execution_count": 3,
   "metadata": {
    "collapsed": false,
    "jupyter": {
     "outputs_hidden": false
    },
    "pycharm": {
     "name": "#%%\n"
    }
   },
   "outputs": [],
   "source": [
    "projections_dict_scaled = load(pkl_file_projected)\n",
    "\n",
    "if projections_dict_scaled is None:\n",
    "    projections_dict_scaled = {}\n",
    "\n",
    "    total = len(detections_dict)\n",
    "    for im in detections_dict:\n",
    "        if not im in pairs:\n",
    "            continue\n",
    "        ir_im = pairs[im]\n",
    "        if not im in projections_dict_scaled:\n",
    "           projections_dict_scaled[im] = []\n",
    "    #     if not ir_im in projections_dict_unscaled:\n",
    "    #        projections_dict_unscaled[ir_im] = []\n",
    "\n",
    "        rgb_name = os.path.basename(im)\n",
    "        ir_name = os.path.basename(ir_im)\n",
    "        rgb_info = get_image_info_api(rgb_name)\n",
    "        ir_info = get_image_info_api(ir_name)\n",
    "        scale_x =  rgb_info[\"width\"] / ir_info[\"width\"]\n",
    "        scale_y = rgb_info[\"height\"] / ir_info[\"height\"]\n",
    "        for det in detections_dict[im]:\n",
    "            ((x1,y1),(x2,y2))=rh.project_box(det.box,scale_x,scale_y)\n",
    "            p_det_scaled = Detection([x1,y1,x2,y2], det.classid, det.confidence)\n",
    "            projections_dict_scaled[im].append(p_det_scaled)\n",
    "    #         projections_dict_unscaled[ir_im].append(p_det_unscaled)\n",
    "    save_dets(pkl_file_projected,projections_dict_scaled)"
   ]
  },
  {
   "cell_type": "markdown",
   "metadata": {},
   "source": [
    "### Check to see if it worked!\n"
   ]
  },
  {
   "cell_type": "code",
   "execution_count": 65,
   "metadata": {
    "collapsed": false,
    "jupyter": {
     "outputs_hidden": false
    },
    "pycharm": {
     "name": "#%%\n"
    }
   },
   "outputs": [],
   "source": [
    "from thebook.cv2.norm import min_max_norm\n",
    "def show_projections(rgb_im, H):\n",
    "    print(rgb_im)\n",
    "    rgb = cv2.imread(rgb_im)\n",
    "    height, width, channels = rgb.shape\n",
    "    \n",
    "    ir_im = pairs[rgb_im]\n",
    "    ir=cv2.imread(ir_im, -1)\n",
    "    ir = np.array(ir)\n",
    "    ir = min_max_norm(ir)\n",
    "    ir_3c = cv2.cvtColor(ir,cv2.COLOR_GRAY2RGB)\n",
    "    print()\n",
    "    #$rh.get_homography(cv2.MOTION_HOMOGRAPHY)\n",
    "    ir_3c = cv2.warpPerspective(ir_3c, H, (width,height))\n",
    "    print()\n",
    "    # ir_3c = cv2.resize(ir_3c,None,fx=rgb.shape[1]/ir.shape[1],fy=rgb.shape[0]/ir.shape[0])\n",
    "\n",
    "    for det in detections_dict[rgb_im]:\n",
    "        [x1,y1,x2,y2] = det.box\n",
    "        x_offset = -20\n",
    "        y_offset = 80\n",
    "        x_offset = -20\n",
    "        y_offset = 60\n",
    "        cv2.rectangle(ir_3c, (int(x1+x_offset), int(y1+y_offset)), (int(x2+x_offset),int(y2+y_offset)), (36, 255, 12), 8)\n",
    "        cv2.rectangle(rgb, (int(x1), int(y1)), (int(x2),int(y2)), (36, 255, 12), 8)\n",
    "    return ir_3c, rgb\n",
    "\n",
    "def resize(img, scale_percent = 60):\n",
    "    width = int(img.shape[1] * scale_percent / 100)\n",
    "    height = int(img.shape[0] * scale_percent / 100)\n",
    "    dim = (width, height)\n",
    "    # resize image\n",
    "    resized = cv2.resize(img, dim, interpolation = cv2.INTER_AREA)\n",
    "    return resized"
   ]
  },
  {
   "cell_type": "code",
   "execution_count": 66,
   "metadata": {},
   "outputs": [
    {
     "name": "stdout",
     "output_type": "stream",
     "text": [
      "[[ 1.06156124e+01 -4.68370028e-02 -2.58738196e+02]\n",
      " [ 6.50620827e-02  1.05816533e+01 -2.92569479e+02]\n",
      " [ 0.00000000e+00  0.00000000e+00  1.00000000e+00]]\n"
     ]
    }
   ],
   "source": [
    "from noaadb import Session\n",
    "from noaadb.schema.models import *\n",
    "s = Session()\n",
    "homography = s.query(Homography).filter(Homography.id == 64).first()\n",
    "H = homography.matrix\n",
    "print(H)\n",
    "s.close()"
   ]
  },
  {
   "cell_type": "code",
   "execution_count": 67,
   "metadata": {},
   "outputs": [
    {
     "name": "stdout",
     "output_type": "stream",
     "text": [
      "0\n",
      "/data2/2019/fl04/CENT/test_kotz_2019_fl04_C_20190510_004343.407554_rgb.jpg\n",
      "\n",
      "\n"
     ]
    }
   ],
   "source": [
    "ims = list(projections_dict_scaled.keys())\n",
    "count=0\n",
    "for im in ims[27:28]:\n",
    "    print(count)\n",
    "    if count > 100: break\n",
    "    ir, rgb = show_projections(im, H)\n",
    "    count +=1\n",
    "    cv2.imwrite('/home/yuval/Documents/XNOR/sealnet/models/darknet/pydn/register/test/%d_ir.jpg'%count,resize(ir,60),[int(cv2.IMWRITE_JPEG_QUALITY), 100])\n",
    "    cv2.imwrite('/home/yuval/Documents/XNOR/sealnet/models/darknet/pydn/register/test/%d_rgb.jpg'%count,resize(rgb,40), [int(cv2.IMWRITE_JPEG_QUALITY), 100])"
   ]
  },
  {
   "cell_type": "code",
   "execution_count": 61,
   "metadata": {
    "collapsed": false,
    "jupyter": {
     "outputs_hidden": false
    },
    "pycharm": {
     "name": "#%%\n"
    }
   },
   "outputs": [
    {
     "data": {
      "application/vnd.jupyter.widget-view+json": {
       "model_id": "12e11f2764c2496a91b5e7ad0171ca85",
       "version_major": 2,
       "version_minor": 0
      },
      "text/plain": [
       "HBox(children=(VBox(children=(Button(description='Next', style=ButtonStyle()), Button(description='Prev', styl…"
      ]
     },
     "metadata": {},
     "output_type": "display_data"
    },
    {
     "data": {
      "text/plain": [
       "<Figure size 720x720 with 0 Axes>"
      ]
     },
     "metadata": {},
     "output_type": "display_data"
    }
   ],
   "source": [
    "%matplotlib inline\n",
    "import ipywidgets as widgets\n",
    "import matplotlib.pyplot as plt\n",
    "import pylab as pl\n",
    "from IPython.display import clear_output\n",
    "from pylab import rcParams\n",
    "rcParams['figure.figsize'] = 20,20\n",
    "\n",
    "if projections_dict_scaled is None:\n",
    "    projections_dict_scaled = load(pkl_file_projected)\n",
    "\n",
    "ims = list(projections_dict_scaled.keys())\n",
    "ims = [ims[5]]\n",
    "fig2 = plt.figure(figsize = (10,10))\n",
    "button1 = widgets.Button(description=\"Next\")\n",
    "button2 = widgets.Button(description=\"Prev\")\n",
    "out = widgets.Output()\n",
    "\n",
    "buttons = widgets.VBox(children=[button1, button2])\n",
    "all_widgets = widgets.HBox(children=[buttons, out])\n",
    "display(all_widgets)\n",
    "class ButtonCounter:\n",
    "    def __init__(self, maxi):\n",
    "        self.count = 0\n",
    "        self.maxi = maxi\n",
    "        \n",
    "    def next(self,b):\n",
    "        if self.count  < self.maxi:\n",
    "            ir, rgb = show_projections(ims[self.count])\n",
    "            self.count +=1\n",
    "            print(\"test\")\n",
    "            cv2.imwrite('/home/yuval/Documents/XNOR/sealnet/models/darknet/pydn/register/test/%d_ir.jpg'%self.count,ir)\n",
    "            cv2.imwrite('/home/yuval/Documents/XNOR/sealnet/models/darknet/pydn/register/test/%d_rgb.jpg'%self.count,rgb)\n",
    "            with out:\n",
    "                pl.imshow(ir)\n",
    "                clear_output(wait=True)\n",
    "                display(pl.gcf())\n",
    "    def prev(self, b):\n",
    "        if self.count  > 0:\n",
    "            self.count -=1\n",
    "            im = show_projections(ims[self.count])\n",
    "            with out:\n",
    "                pl.imshow(im)\n",
    "                clear_output(wait=True)\n",
    "                display(pl.gcf())\n",
    "b = ButtonCounter(len(ims))\n",
    "button1.on_click(b.next)\n",
    "button2.on_click(b.prev)\n",
    "\n"
   ]
  },
  {
   "cell_type": "code",
   "execution_count": 6,
   "metadata": {
    "collapsed": false,
    "jupyter": {
     "outputs_hidden": false
    },
    "pycharm": {
     "name": "#%%\n"
    }
   },
   "outputs": [
    {
     "ename": "NameError",
     "evalue": "name 'im' is not defined",
     "output_type": "error",
     "traceback": [
      "\u001b[0;31m---------------------------------------------------------------------------\u001b[0m",
      "\u001b[0;31mNameError\u001b[0m                                 Traceback (most recent call last)",
      "\u001b[0;32m<ipython-input-6-c68ce4cb4bbd>\u001b[0m in \u001b[0;36m<module>\u001b[0;34m\u001b[0m\n\u001b[0;32m----> 1\u001b[0;31m \u001b[0mrgb\u001b[0m \u001b[0;34m=\u001b[0m \u001b[0mcv2\u001b[0m\u001b[0;34m.\u001b[0m\u001b[0mimread\u001b[0m\u001b[0;34m(\u001b[0m\u001b[0mim\u001b[0m\u001b[0;34m)\u001b[0m\u001b[0;34m\u001b[0m\u001b[0;34m\u001b[0m\u001b[0m\n\u001b[0m\u001b[1;32m      2\u001b[0m \u001b[0mdetections\u001b[0m \u001b[0;34m=\u001b[0m \u001b[0mdetections_dict\u001b[0m\u001b[0;34m[\u001b[0m\u001b[0mim\u001b[0m\u001b[0;34m]\u001b[0m\u001b[0;34m\u001b[0m\u001b[0;34m\u001b[0m\u001b[0m\n\u001b[1;32m      3\u001b[0m \u001b[0;32mfor\u001b[0m \u001b[0mdet\u001b[0m \u001b[0;32min\u001b[0m \u001b[0mdetections\u001b[0m\u001b[0;34m:\u001b[0m\u001b[0;34m\u001b[0m\u001b[0;34m\u001b[0m\u001b[0m\n\u001b[1;32m      4\u001b[0m     \u001b[0;34m[\u001b[0m\u001b[0mx1\u001b[0m\u001b[0;34m,\u001b[0m\u001b[0my1\u001b[0m\u001b[0;34m,\u001b[0m\u001b[0mx2\u001b[0m\u001b[0;34m,\u001b[0m\u001b[0my2\u001b[0m\u001b[0;34m]\u001b[0m \u001b[0;34m=\u001b[0m \u001b[0mdet\u001b[0m\u001b[0;34m.\u001b[0m\u001b[0mbox\u001b[0m\u001b[0;34m\u001b[0m\u001b[0;34m\u001b[0m\u001b[0m\n\u001b[1;32m      5\u001b[0m     \u001b[0mcv2\u001b[0m\u001b[0;34m.\u001b[0m\u001b[0mrectangle\u001b[0m\u001b[0;34m(\u001b[0m\u001b[0mrgb\u001b[0m\u001b[0;34m,\u001b[0m \u001b[0;34m(\u001b[0m\u001b[0mint\u001b[0m\u001b[0;34m(\u001b[0m\u001b[0mx1\u001b[0m\u001b[0;34m)\u001b[0m\u001b[0;34m,\u001b[0m \u001b[0mint\u001b[0m\u001b[0;34m(\u001b[0m\u001b[0my1\u001b[0m\u001b[0;34m)\u001b[0m\u001b[0;34m)\u001b[0m\u001b[0;34m,\u001b[0m \u001b[0;34m(\u001b[0m\u001b[0mint\u001b[0m\u001b[0;34m(\u001b[0m\u001b[0mx2\u001b[0m\u001b[0;34m)\u001b[0m\u001b[0;34m,\u001b[0m\u001b[0mint\u001b[0m\u001b[0;34m(\u001b[0m\u001b[0my2\u001b[0m\u001b[0;34m)\u001b[0m\u001b[0;34m)\u001b[0m\u001b[0;34m,\u001b[0m \u001b[0;34m(\u001b[0m\u001b[0;36m255\u001b[0m\u001b[0;34m,\u001b[0m \u001b[0;36m255\u001b[0m\u001b[0;34m,\u001b[0m \u001b[0;36m0\u001b[0m\u001b[0;34m)\u001b[0m\u001b[0;34m,\u001b[0m \u001b[0;36m4\u001b[0m\u001b[0;34m)\u001b[0m\u001b[0;34m\u001b[0m\u001b[0;34m\u001b[0m\u001b[0m\n",
      "\u001b[0;31mNameError\u001b[0m: name 'im' is not defined"
     ]
    }
   ],
   "source": [
    "rgb = cv2.imread(im)\n",
    "detections = detections_dict[im]\n",
    "for det in detections:\n",
    "    [x1,y1,x2,y2] = det.box\n",
    "    cv2.rectangle(rgb, (int(x1), int(y1)), (int(x2),int(y2)), (255, 255, 0), 4)\n",
    "\n",
    "plt.rcParams['figure.dpi'] = 200\n",
    "plt.gca().set_axis_off()\n",
    "plt.subplots_adjust(top = 1, bottom = 0, right = 1, left = 0, \n",
    "            hspace = 0, wspace = 0)\n",
    "plt.margins(0,0)\n",
    "plt.gca().xaxis.set_major_locator(plt.NullLocator())\n",
    "plt.gca().yaxis.set_major_locator(plt.NullLocator())\n",
    "plt.imshow(rgb)\n",
    "\n"
   ]
  },
  {
   "cell_type": "code",
   "execution_count": 7,
   "metadata": {},
   "outputs": [
    {
     "data": {
      "text/plain": [
       "array([0 0.9518 (x1:6409,y1:4240) (x2:6460,y2:4308),\n",
       "       0 0.1653 (x1:242,y1:3066) (x2:259,y2:3118),\n",
       "       0 0.1705 (x1:2761,y1:2272) (x2:2815,y2:2309),\n",
       "       0 0.2332 (x1:2175,y1:1755) (x2:2199,y2:1806)], dtype=object)"
      ]
     },
     "execution_count": 7,
     "metadata": {},
     "output_type": "execute_result"
    }
   ],
   "source": []
  },
  {
   "cell_type": "code",
   "execution_count": null,
   "metadata": {},
   "outputs": [],
   "source": []
  }
 ],
 "metadata": {
  "kernelspec": {
   "display_name": "Python 3",
   "language": "python",
   "name": "python3"
  },
  "language_info": {
   "codemirror_mode": {
    "name": "ipython",
    "version": 3
   },
   "file_extension": ".py",
   "mimetype": "text/x-python",
   "name": "python",
   "nbconvert_exporter": "python",
   "pygments_lexer": "ipython3",
   "version": "3.6.8"
  }
 },
 "nbformat": 4,
 "nbformat_minor": 4
}
